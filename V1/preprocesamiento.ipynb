{
 "cells": [
  {
   "cell_type": "code",
   "execution_count": 1,
   "metadata": {},
   "outputs": [],
   "source": [
    "import json\n",
    "import os\n",
    "from PIL import Image, ImageOps, ImageFilter\n",
    "\n",
    "# Rutas de archivos y carpetas\n",
    "IMAGES_PATH = os.path.abspath('../mnt/Dataset/images/')\n",
    "ANNOTATIONS_FILE = os.path.abspath('../mnt/Dataset/annotations/annotations.json')\n",
    "OUTPUT_ANNOTATIONS_DIR = os.path.abspath('../mnt/V3/annotations')\n",
    "OUTPUT_IMAGES_DIR = os.path.abspath('../mnt/V3/images')\n"
   ]
  },
  {
   "cell_type": "code",
   "execution_count": 2,
   "metadata": {},
   "outputs": [],
   "source": [
    "def create_directories():\n",
    "    \"\"\"\n",
    "    Crea los directorios de salida si no existen.\n",
    "    \"\"\"\n",
    "    os.makedirs(OUTPUT_ANNOTATIONS_DIR, exist_ok=True)\n",
    "    os.makedirs(OUTPUT_IMAGES_DIR, exist_ok=True)"
   ]
  },
  {
   "cell_type": "code",
   "execution_count": 3,
   "metadata": {},
   "outputs": [],
   "source": [
    "def load_annotations(file_path):\n",
    "    \"\"\"\n",
    "    Carga las anotaciones desde un archivo JSON.\n",
    "    \"\"\"\n",
    "    with open(file_path, 'r') as f:\n",
    "        return json.load(f)"
   ]
  },
  {
   "cell_type": "code",
   "execution_count": 4,
   "metadata": {},
   "outputs": [],
   "source": [
    "def normalize_pose(pose, image_width, image_height):\n",
    "    \"\"\"\n",
    "    Normaliza las coordenadas de las poses con respecto a las dimensiones de la imagen.\n",
    "    \"\"\"\n",
    "    return [\n",
    "        [x / image_width, y / image_height, c]\n",
    "        for x, y, c in pose\n",
    "    ]"
   ]
  },
  {
   "cell_type": "code",
   "execution_count": null,
   "metadata": {},
   "outputs": [],
   "source": [
    "def preprocess_data(annotations):\n",
    "    \"\"\"\n",
    "    Preprocesa las anotaciones, aplica normalización, filtros de imagen y redimensionamiento.\n",
    "    \"\"\"\n",
    "    data = []\n",
    "    for annotation in annotations:\n",
    "        # Ignorar anotaciones sin pose1 o pose2\n",
    "        if 'pose1' not in annotation or 'pose2' not in annotation:\n",
    "            continue\n",
    "\n",
    "        image_name = annotation['image'] + '.jpg'\n",
    "        image_path = os.path.join(IMAGES_PATH, image_name)\n",
    "\n",
    "        # Verificar que la imagen exista\n",
    "        if not os.path.exists(image_path):\n",
    "            continue\n",
    "\n",
    "        # Procesar la imagen\n",
    "        image = Image.open(image_path)\n",
    "        width, height = image.size\n",
    "\n",
    "        # Normalizar poses\n",
    "        pose1 = normalize_pose(annotation.get('pose1'), width, height)\n",
    "        pose2 = normalize_pose(annotation.get('pose2'), width, height)\n",
    "\n",
    "        # Redimensionar la imagen\n",
    "        resized_image = image.resize((256, 256))\n",
    "\n",
    "        # Convertir a blanco y negro\n",
    "        bw_image = ImageOps.grayscale(resized_image).convert(\"RGB\")\n",
    "\n",
    "        # Aplicar filtro Sobel para detección de bordes\n",
    "        sobel_image = bw_image.filter(ImageFilter.FIND_EDGES)\n",
    "\n",
    "        # Agregar datos preprocesados\n",
    "        data.append({\n",
    "            'image': sobel_image,\n",
    "            'pose1': pose1,\n",
    "            'pose2': pose2,\n",
    "            'position': annotation['position'],\n",
    "            'frame': annotation.get('frame') \n",
    "        })\n",
    "\n",
    "    return data"
   ]
  },
  {
   "cell_type": "code",
   "execution_count": 6,
   "metadata": {},
   "outputs": [],
   "source": [
    "def save_images(data, output_dir):\n",
    "    \"\"\"\n",
    "    Guarda las imágenes procesadas en el directorio de salida.\n",
    "    \"\"\"\n",
    "    for idx, item in enumerate(data):\n",
    "        file_name = f'{str(idx+1).zfill(7)}.jpg'\n",
    "        item['image'].save(os.path.join(output_dir, file_name))"
   ]
  },
  {
   "cell_type": "code",
   "execution_count": null,
   "metadata": {},
   "outputs": [],
   "source": [
    "def save_annotations(data, output_file):\n",
    "    \"\"\"\n",
    "    Guarda las anotaciones en un archivo JSON en el directorio de salida.\n",
    "    \"\"\"\n",
    "    annotations = [\n",
    "        {\n",
    "            'Image': f'{str(idx+1).zfill(7)}',\n",
    "            'Pose1': item['pose1'],\n",
    "            'Pose2': item['pose2'],\n",
    "            'Position': item['position'],\n",
    "            'Frame': item['frame']  \n",
    "        }\n",
    "        for idx, item in enumerate(data)\n",
    "    ]\n",
    "    with open(output_file, 'w') as f:\n",
    "        json.dump(annotations, f)\n"
   ]
  },
  {
   "cell_type": "code",
   "execution_count": 8,
   "metadata": {},
   "outputs": [
    {
     "ename": "OSError",
     "evalue": "[Errno 22] Invalid argument",
     "output_type": "error",
     "traceback": [
      "\u001b[1;31m---------------------------------------------------------------------------\u001b[0m",
      "\u001b[1;31mOSError\u001b[0m                                   Traceback (most recent call last)",
      "Cell \u001b[1;32mIn[8], line 21\u001b[0m\n\u001b[0;32m     18\u001b[0m     \u001b[38;5;28mprint\u001b[39m(\u001b[38;5;124mf\u001b[39m\u001b[38;5;124m'\u001b[39m\u001b[38;5;124mProceso completado. Se han guardado \u001b[39m\u001b[38;5;132;01m{\u001b[39;00m\u001b[38;5;28mlen\u001b[39m(data)\u001b[38;5;132;01m}\u001b[39;00m\u001b[38;5;124m imágenes en \u001b[39m\u001b[38;5;132;01m{\u001b[39;00mOUTPUT_IMAGES_DIR\u001b[38;5;132;01m}\u001b[39;00m\u001b[38;5;124m y las anotaciones en \u001b[39m\u001b[38;5;132;01m{\u001b[39;00mOUTPUT_ANNOTATIONS_DIR\u001b[38;5;132;01m}\u001b[39;00m\u001b[38;5;124m.\u001b[39m\u001b[38;5;124m'\u001b[39m)\n\u001b[0;32m     20\u001b[0m \u001b[38;5;28;01mif\u001b[39;00m \u001b[38;5;18m__name__\u001b[39m \u001b[38;5;241m==\u001b[39m \u001b[38;5;124m'\u001b[39m\u001b[38;5;124m__main__\u001b[39m\u001b[38;5;124m'\u001b[39m:\n\u001b[1;32m---> 21\u001b[0m     \u001b[43mmain\u001b[49m\u001b[43m(\u001b[49m\u001b[43m)\u001b[49m\n",
      "Cell \u001b[1;32mIn[8], line 12\u001b[0m, in \u001b[0;36mmain\u001b[1;34m()\u001b[0m\n\u001b[0;32m      9\u001b[0m annotations \u001b[38;5;241m=\u001b[39m load_annotations(ANNOTATIONS_FILE)\n\u001b[0;32m     11\u001b[0m \u001b[38;5;66;03m# Preprocesar datos\u001b[39;00m\n\u001b[1;32m---> 12\u001b[0m data \u001b[38;5;241m=\u001b[39m \u001b[43mpreprocess_data\u001b[49m\u001b[43m(\u001b[49m\u001b[43mannotations\u001b[49m\u001b[43m)\u001b[49m\n\u001b[0;32m     14\u001b[0m \u001b[38;5;66;03m# Guardar imágenes y anotaciones preprocesadas\u001b[39;00m\n\u001b[0;32m     15\u001b[0m save_images(data, OUTPUT_IMAGES_DIR)\n",
      "Cell \u001b[1;32mIn[5], line 19\u001b[0m, in \u001b[0;36mpreprocess_data\u001b[1;34m(annotations)\u001b[0m\n\u001b[0;32m     16\u001b[0m     \u001b[38;5;28;01mcontinue\u001b[39;00m\n\u001b[0;32m     18\u001b[0m \u001b[38;5;66;03m# Procesar la imagen\u001b[39;00m\n\u001b[1;32m---> 19\u001b[0m image \u001b[38;5;241m=\u001b[39m \u001b[43mImage\u001b[49m\u001b[38;5;241;43m.\u001b[39;49m\u001b[43mopen\u001b[49m\u001b[43m(\u001b[49m\u001b[43mimage_path\u001b[49m\u001b[43m)\u001b[49m\n\u001b[0;32m     20\u001b[0m width, height \u001b[38;5;241m=\u001b[39m image\u001b[38;5;241m.\u001b[39msize\n\u001b[0;32m     22\u001b[0m \u001b[38;5;66;03m# Normalizar poses\u001b[39;00m\n",
      "File \u001b[1;32mc:\\Users\\Tuf Gaming\\AppData\\Local\\Programs\\Python\\Python310\\lib\\site-packages\\PIL\\Image.py:3286\u001b[0m, in \u001b[0;36mopen\u001b[1;34m(fp, mode, formats)\u001b[0m\n\u001b[0;32m   3283\u001b[0m     fp \u001b[38;5;241m=\u001b[39m io\u001b[38;5;241m.\u001b[39mBytesIO(fp\u001b[38;5;241m.\u001b[39mread())\n\u001b[0;32m   3284\u001b[0m     exclusive_fp \u001b[38;5;241m=\u001b[39m \u001b[38;5;28;01mTrue\u001b[39;00m\n\u001b[1;32m-> 3286\u001b[0m prefix \u001b[38;5;241m=\u001b[39m \u001b[43mfp\u001b[49m\u001b[38;5;241;43m.\u001b[39;49m\u001b[43mread\u001b[49m\u001b[43m(\u001b[49m\u001b[38;5;241;43m16\u001b[39;49m\u001b[43m)\u001b[49m\n\u001b[0;32m   3288\u001b[0m preinit()\n\u001b[0;32m   3290\u001b[0m accept_warnings \u001b[38;5;241m=\u001b[39m []\n",
      "\u001b[1;31mOSError\u001b[0m: [Errno 22] Invalid argument"
     ]
    }
   ],
   "source": [
    "def main():\n",
    "    \"\"\"\n",
    "    Función principal que ejecuta el flujo completo de preprocesamiento.\n",
    "    \"\"\"\n",
    "    # Crear directorios de salida\n",
    "    create_directories()\n",
    "\n",
    "    # Cargar anotaciones\n",
    "    annotations = load_annotations(ANNOTATIONS_FILE)\n",
    "\n",
    "    # Preprocesar datos\n",
    "    data = preprocess_data(annotations)\n",
    "\n",
    "    # Guardar imágenes y anotaciones preprocesadas\n",
    "    save_images(data, OUTPUT_IMAGES_DIR)\n",
    "    save_annotations(data, os.path.join(OUTPUT_ANNOTATIONS_DIR, 'annotations_preprocessed.json'))\n",
    "\n",
    "    print(f'Proceso completado. Se han guardado {len(data)} imágenes en {OUTPUT_IMAGES_DIR} y las anotaciones en {OUTPUT_ANNOTATIONS_DIR}.')\n",
    "\n",
    "if __name__ == '__main__':\n",
    "    main()\n"
   ]
  }
 ],
 "metadata": {
  "kernelspec": {
   "display_name": "Python 3",
   "language": "python",
   "name": "python3"
  },
  "language_info": {
   "codemirror_mode": {
    "name": "ipython",
    "version": 3
   },
   "file_extension": ".py",
   "mimetype": "text/x-python",
   "name": "python",
   "nbconvert_exporter": "python",
   "pygments_lexer": "ipython3",
   "version": "3.10.0"
  }
 },
 "nbformat": 4,
 "nbformat_minor": 2
}
