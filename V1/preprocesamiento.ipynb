{
 "cells": [
  {
   "cell_type": "code",
   "execution_count": 1,
   "metadata": {},
   "outputs": [],
   "source": [
    "import json\n",
    "import os\n",
    "import random\n",
    "import numpy as np\n",
    "from PIL import Image\n",
    "\n",
    "# Rutas de archivos y carpetas\n",
    "IMAGES_PATH = os.path.abspath('../mnt/Dataset/images/')\n",
    "ANNOTATIONS_FILE = os.path.abspath('../mnt/Dataset/annotations/annotations.json')\n",
    "OUTPUT_ANNOTATIONS_DIR = os.path.abspath('../mnt/V1/annotations')\n",
    "OUTPUT_IMAGES_DIR = os.path.abspath('../mnt/V1/images')\n"
   ]
  },
  {
   "cell_type": "code",
   "execution_count": 2,
   "metadata": {},
   "outputs": [],
   "source": [
    "def create_directories():\n",
    "    \"\"\"\n",
    "    Crea los directorios de salida si no existen.\n",
    "    \"\"\"\n",
    "    os.makedirs(OUTPUT_ANNOTATIONS_DIR, exist_ok=True)\n",
    "    os.makedirs(OUTPUT_IMAGES_DIR, exist_ok=True)\n"
   ]
  },
  {
   "cell_type": "code",
   "execution_count": 3,
   "metadata": {},
   "outputs": [],
   "source": [
    "def load_annotations(file_path):\n",
    "    \"\"\"\n",
    "    Carga las anotaciones desde un archivo JSON.\n",
    "    \"\"\"\n",
    "    with open(file_path, 'r') as f:\n",
    "        return json.load(f)\n"
   ]
  },
  {
   "cell_type": "code",
   "execution_count": 4,
   "metadata": {},
   "outputs": [],
   "source": [
    "def normalize_pose(pose, image_width, image_height):\n",
    "    \"\"\"\n",
    "    Normaliza las coordenadas de las poses con respecto a las dimensiones de la imagen.\n",
    "    \"\"\"\n",
    "    return [\n",
    "        [x / image_width, y / image_height, c]\n",
    "        for x, y, c in pose\n",
    "    ]"
   ]
  },
  {
   "cell_type": "code",
   "execution_count": null,
   "metadata": {},
   "outputs": [],
   "source": [
    "def preprocess_data(annotations):\n",
    "    \"\"\"\n",
    "    Preprocesa las anotaciones, filtra datos faltantes, redimensiona imágenes y normaliza poses.\n",
    "    \"\"\"\n",
    "    data = []\n",
    "    for annotation in annotations:\n",
    "        # Ignorar anotaciones sin pose1 o pose2\n",
    "        if 'pose1' not in annotation or 'pose2' not in annotation:\n",
    "            continue\n",
    "\n",
    "        image_name = annotation['image'] + '.jpg'\n",
    "        image_path = os.path.join(IMAGES_PATH, image_name)\n",
    "\n",
    "        # Verificar que la imagen exista\n",
    "        if not os.path.exists(image_path):\n",
    "            continue\n",
    "\n",
    "        # Procesar la imagen\n",
    "        image = Image.open(image_path)\n",
    "        width, height = image.size\n",
    "\n",
    "        # Normalizar poses\n",
    "        pose1 = normalize_pose(annotation.get('pose1'), width, height)\n",
    "        pose2 = normalize_pose(annotation.get('pose2'), width, height)\n",
    "\n",
    "        # Redimensionar la imagen\n",
    "        resized_image = image.resize((256, 256))\n",
    "\n",
    "        # Agregar datos preprocesados, incluyendo el campo frame\n",
    "        data.append({\n",
    "            'image': resized_image,\n",
    "            'pose1': pose1,\n",
    "            'pose2': pose2,\n",
    "            'position': annotation['position'],\n",
    "            'frame': annotation.get('frame') \n",
    "        })\n",
    "\n",
    "    return data\n"
   ]
  },
  {
   "cell_type": "code",
   "execution_count": 6,
   "metadata": {},
   "outputs": [],
   "source": [
    "def save_images(data, output_dir):\n",
    "    \"\"\"\n",
    "    Guarda las imágenes redimensionadas en el directorio de salida.\n",
    "    \"\"\"\n",
    "    for idx, item in enumerate(data):\n",
    "        file_name = f'{str(idx+1).zfill(7)}.jpg'\n",
    "        item['image'].save(os.path.join(output_dir, file_name))\n"
   ]
  },
  {
   "cell_type": "code",
   "execution_count": null,
   "metadata": {},
   "outputs": [],
   "source": [
    "def save_annotations(data, output_file):\n",
    "    \"\"\"\n",
    "    Guarda las anotaciones en un archivo JSON en el directorio de salida.\n",
    "    \"\"\"\n",
    "    annotations = [\n",
    "        {\n",
    "            'Image': f'{str(idx+1).zfill(7)}',\n",
    "            'Pose1': item['pose1'],\n",
    "            'Pose2': item['pose2'],\n",
    "            'Position': item['position'],\n",
    "            'Frame': item['frame']  \n",
    "        }\n",
    "        for idx, item in enumerate(data)\n",
    "    ]\n",
    "    with open(output_file, 'w') as f:\n",
    "        json.dump(annotations, f)\n"
   ]
  },
  {
   "cell_type": "code",
   "execution_count": 8,
   "metadata": {},
   "outputs": [
    {
     "name": "stdout",
     "output_type": "stream",
     "text": [
      "Proceso completado. Se han guardado 30000 imágenes en d:\\Proyectos\\TFG\\mnt\\V1\\images y las anotaciones en d:\\Proyectos\\TFG\\mnt\\V1\\annotations.\n"
     ]
    }
   ],
   "source": [
    "def main():\n",
    "    \"\"\"\n",
    "    Función principal que ejecuta el flujo completo de preprocesamiento.\n",
    "    \"\"\"\n",
    "    # Crear directorios de salida\n",
    "    create_directories()\n",
    "\n",
    "    # Cargar anotaciones\n",
    "    annotations = load_annotations(ANNOTATIONS_FILE)\n",
    "\n",
    "    # Preprocesar datos\n",
    "    data = preprocess_data(annotations)\n",
    "\n",
    "    # Reducir a 30,000 elementos aleatorios\n",
    "    random.shuffle(data)\n",
    "    data_sample = data[:30000]\n",
    "\n",
    "    # Guardar imágenes y anotaciones preprocesadas\n",
    "    save_images(data_sample, OUTPUT_IMAGES_DIR)\n",
    "    save_annotations(data_sample, os.path.join(OUTPUT_ANNOTATIONS_DIR, 'annotations_preprocessed.json'))\n",
    "\n",
    "    print(f'Proceso completado. Se han guardado {len(data_sample)} imágenes en {OUTPUT_IMAGES_DIR} y las anotaciones en {OUTPUT_ANNOTATIONS_DIR}.')\n",
    "\n",
    "if __name__ == '__main__':\n",
    "    main()\n"
   ]
  }
 ],
 "metadata": {
  "kernelspec": {
   "display_name": "Python 3",
   "language": "python",
   "name": "python3"
  },
  "language_info": {
   "codemirror_mode": {
    "name": "ipython",
    "version": 3
   },
   "file_extension": ".py",
   "mimetype": "text/x-python",
   "name": "python",
   "nbconvert_exporter": "python",
   "pygments_lexer": "ipython3",
   "version": "3.10.0"
  }
 },
 "nbformat": 4,
 "nbformat_minor": 2
}
