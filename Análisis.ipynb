{
 "cells": [
  {
   "cell_type": "code",
   "execution_count": null,
   "metadata": {},
   "outputs": [],
   "source": [
    "import json\n",
    "import os\n",
    "import numpy as np\n",
    "import pandas as pd\n",
    "from collections import Counter\n",
    "import matplotlib.pyplot as plt\n",
    "import seaborn as sns\n",
    "\n",
    "# Paths\n",
    "annotations_path = './mnt/V1/annotations/annotations_preprocessed.json'\n",
    "image_dir = './mnt/V1/images'\n",
    "\n",
    "# Diccionario para mapear posiciones a índices\n",
    "position_to_index = {\n",
    "    '5050_guard': 0,\n",
    "    'back1': 1,\n",
    "    'back2': 2,\n",
    "    'closed_guard1': 3,\n",
    "    'closed_guard2': 4,\n",
    "    'half_guard1': 5,\n",
    "    'half_guard2': 6,\n",
    "    'mount1': 7,\n",
    "    'mount2': 8,\n",
    "    'open_guard1': 9,\n",
    "    'open_guard2': 10,\n",
    "    'side_control1': 11,\n",
    "    'side_control2': 12,\n",
    "    'standing': 13,\n",
    "    'takedown1': 14,\n",
    "    'takedown2': 15,\n",
    "    'turtle1': 16,\n",
    "    'turtle2': 17\n",
    "}\n"
   ]
  },
  {
   "cell_type": "code",
   "execution_count": 2,
   "metadata": {},
   "outputs": [],
   "source": [
    "def load_annotations(annotations_path):\n",
    "    with open(annotations_path, 'r') as f:\n",
    "        return json.load(f)\n",
    "\n"
   ]
  },
  {
   "cell_type": "code",
   "execution_count": 3,
   "metadata": {},
   "outputs": [
    {
     "ename": "FileNotFoundError",
     "evalue": "[Errno 2] No such file or directory: '../mnt/V1/annotations/annotations_preprocessed.json'",
     "output_type": "error",
     "traceback": [
      "\u001b[1;31m---------------------------------------------------------------------------\u001b[0m",
      "\u001b[1;31mFileNotFoundError\u001b[0m                         Traceback (most recent call last)",
      "Cell \u001b[1;32mIn[3], line 1\u001b[0m\n\u001b[1;32m----> 1\u001b[0m annotations \u001b[38;5;241m=\u001b[39m \u001b[43mload_annotations\u001b[49m\u001b[43m(\u001b[49m\u001b[43mannotations_path\u001b[49m\u001b[43m)\u001b[49m\n",
      "Cell \u001b[1;32mIn[2], line 2\u001b[0m, in \u001b[0;36mload_annotations\u001b[1;34m(annotations_path)\u001b[0m\n\u001b[0;32m      1\u001b[0m \u001b[38;5;28;01mdef\u001b[39;00m \u001b[38;5;21mload_annotations\u001b[39m(annotations_path):\n\u001b[1;32m----> 2\u001b[0m     \u001b[38;5;28;01mwith\u001b[39;00m \u001b[38;5;28;43mopen\u001b[39;49m\u001b[43m(\u001b[49m\u001b[43mannotations_path\u001b[49m\u001b[43m,\u001b[49m\u001b[43m \u001b[49m\u001b[38;5;124;43m'\u001b[39;49m\u001b[38;5;124;43mr\u001b[39;49m\u001b[38;5;124;43m'\u001b[39;49m\u001b[43m)\u001b[49m \u001b[38;5;28;01mas\u001b[39;00m f:\n\u001b[0;32m      3\u001b[0m         \u001b[38;5;28;01mreturn\u001b[39;00m json\u001b[38;5;241m.\u001b[39mload(f)\n",
      "File \u001b[1;32m~\\AppData\\Roaming\\Python\\Python310\\site-packages\\IPython\\core\\interactiveshell.py:324\u001b[0m, in \u001b[0;36m_modified_open\u001b[1;34m(file, *args, **kwargs)\u001b[0m\n\u001b[0;32m    317\u001b[0m \u001b[38;5;28;01mif\u001b[39;00m file \u001b[38;5;129;01min\u001b[39;00m {\u001b[38;5;241m0\u001b[39m, \u001b[38;5;241m1\u001b[39m, \u001b[38;5;241m2\u001b[39m}:\n\u001b[0;32m    318\u001b[0m     \u001b[38;5;28;01mraise\u001b[39;00m \u001b[38;5;167;01mValueError\u001b[39;00m(\n\u001b[0;32m    319\u001b[0m         \u001b[38;5;124mf\u001b[39m\u001b[38;5;124m\"\u001b[39m\u001b[38;5;124mIPython won\u001b[39m\u001b[38;5;124m'\u001b[39m\u001b[38;5;124mt let you open fd=\u001b[39m\u001b[38;5;132;01m{\u001b[39;00mfile\u001b[38;5;132;01m}\u001b[39;00m\u001b[38;5;124m by default \u001b[39m\u001b[38;5;124m\"\u001b[39m\n\u001b[0;32m    320\u001b[0m         \u001b[38;5;124m\"\u001b[39m\u001b[38;5;124mas it is likely to crash IPython. If you know what you are doing, \u001b[39m\u001b[38;5;124m\"\u001b[39m\n\u001b[0;32m    321\u001b[0m         \u001b[38;5;124m\"\u001b[39m\u001b[38;5;124myou can use builtins\u001b[39m\u001b[38;5;124m'\u001b[39m\u001b[38;5;124m open.\u001b[39m\u001b[38;5;124m\"\u001b[39m\n\u001b[0;32m    322\u001b[0m     )\n\u001b[1;32m--> 324\u001b[0m \u001b[38;5;28;01mreturn\u001b[39;00m io_open(file, \u001b[38;5;241m*\u001b[39margs, \u001b[38;5;241m*\u001b[39m\u001b[38;5;241m*\u001b[39mkwargs)\n",
      "\u001b[1;31mFileNotFoundError\u001b[0m: [Errno 2] No such file or directory: '../mnt/V1/annotations/annotations_preprocessed.json'"
     ]
    }
   ],
   "source": [
    "annotations = load_annotations(annotations_path)"
   ]
  },
  {
   "cell_type": "code",
   "execution_count": null,
   "metadata": {},
   "outputs": [],
   "source": [
    "# Calcular distribución de clases\n",
    "def class_distribution(annotations):\n",
    "    positions = [annotation['Position'] for annotation in annotations]\n",
    "    counter = Counter(positions)\n",
    "    return counter"
   ]
  },
  {
   "cell_type": "code",
   "execution_count": null,
   "metadata": {},
   "outputs": [],
   "source": [
    "# Graficar la distribución\n",
    "def plot_class_distribution(counter):\n",
    "    plt.figure(figsize=(12, 6))\n",
    "    sns.barplot(x=list(counter.keys()), y=list(counter.values()))\n",
    "    plt.xticks(rotation=45, ha='right')\n",
    "    plt.title('Distribución de Clases')\n",
    "    plt.xlabel('Clase')\n",
    "    plt.ylabel('Cantidad')\n",
    "    plt.show()"
   ]
  },
  {
   "cell_type": "code",
   "execution_count": null,
   "metadata": {},
   "outputs": [],
   "source": [
    "# Obtener distribución de clases\n",
    "class_counter = class_distribution(annotations)\n",
    "\n",
    "# Mostrar distribución\n",
    "plot_class_distribution(class_counter)\n"
   ]
  },
  {
   "cell_type": "code",
   "execution_count": null,
   "metadata": {},
   "outputs": [],
   "source": [
    "# Análisis de puntos clave\n",
    "def analyze_keypoints(annotations):\n",
    "    confidences = []\n",
    "    for annotation in annotations:\n",
    "        for pose in ['Pose1', 'Pose2']:\n",
    "            confidences.extend([kp[2] for kp in annotation[pose]])\n",
    "    return np.array(confidences)\n"
   ]
  },
  {
   "cell_type": "code",
   "execution_count": null,
   "metadata": {},
   "outputs": [],
   "source": [
    "# Graficar distribución de confianzas\n",
    "def plot_confidence_distribution(confidences):\n",
    "    plt.figure(figsize=(10, 5))\n",
    "    sns.histplot(confidences, bins=30, kde=True)\n",
    "    plt.title('Distribución de Confianza en Puntos Clave')\n",
    "    plt.xlabel('Confianza')\n",
    "    plt.ylabel('Frecuencia')\n",
    "    plt.show()\n"
   ]
  },
  {
   "cell_type": "code",
   "execution_count": null,
   "metadata": {},
   "outputs": [],
   "source": [
    "# Obtener distribuciones de confianza\n",
    "confidences = analyze_keypoints(annotations)\n",
    "\n",
    "# Mostrar la gráfica\n",
    "plot_confidence_distribution(confidences)\n"
   ]
  },
  {
   "cell_type": "code",
   "execution_count": null,
   "metadata": {},
   "outputs": [],
   "source": [
    "# Matriz de transiciones entre posiciones\n",
    "def transition_matrix(annotations):\n",
    "    transitions = []\n",
    "    for i in range(len(annotations) - 1):\n",
    "        from_pos = annotations[i]['Position']\n",
    "        to_pos = annotations[i + 1]['Position']\n",
    "        transitions.append((from_pos, to_pos))\n",
    "    \n",
    "    transition_df = pd.DataFrame(transitions, columns=['From', 'To'])\n",
    "    transition_matrix = pd.crosstab(transition_df['From'], transition_df['To'])\n",
    "    return transition_matrix\n"
   ]
  },
  {
   "cell_type": "code",
   "execution_count": null,
   "metadata": {},
   "outputs": [],
   "source": [
    "# Graficar matriz de transiciones\n",
    "def plot_transition_matrix(matrix):\n",
    "    plt.figure(figsize=(12, 10))\n",
    "    sns.heatmap(matrix, annot=True, fmt=\"d\", cmap=\"Blues\")\n",
    "    plt.title('Matriz de Transiciones entre Clases')\n",
    "    plt.xlabel('Clase de Destino')\n",
    "    plt.ylabel('Clase de Origen')\n",
    "    plt.show()"
   ]
  },
  {
   "cell_type": "code",
   "execution_count": null,
   "metadata": {},
   "outputs": [],
   "source": [
    "# Calcular matriz de transiciones\n",
    "matrix = transition_matrix(annotations)\n",
    "\n",
    "# Mostrar la gráfica\n",
    "plot_transition_matrix(matrix)\n"
   ]
  },
  {
   "cell_type": "code",
   "execution_count": null,
   "metadata": {},
   "outputs": [],
   "source": [
    "# Duración promedio de cada posición\n",
    "def position_durations(annotations):\n",
    "    frame_durations = {}\n",
    "    for annotation in annotations:\n",
    "        pos = annotation['Position']\n",
    "        frame = annotation['Frame']\n",
    "        if pos not in frame_durations:\n",
    "            frame_durations[pos] = []\n",
    "        frame_durations[pos].append(frame)\n",
    "    \n",
    "    # Calcular duración promedio\n",
    "    durations = {pos: (max(frames) - min(frames)) for pos, frames in frame_durations.items()}\n",
    "    return durations"
   ]
  },
  {
   "cell_type": "code",
   "execution_count": null,
   "metadata": {},
   "outputs": [],
   "source": [
    "# Graficar duraciones promedio\n",
    "def plot_position_durations(durations):\n",
    "    plt.figure(figsize=(10, 5))\n",
    "    sns.barplot(x=list(durations.keys()), y=list(durations.values()))\n",
    "    plt.xticks(rotation=45, ha='right')\n",
    "    plt.title('Duración Promedio por Posición')\n",
    "    plt.xlabel('Posición')\n",
    "    plt.ylabel('Duración (Frames)')\n",
    "    plt.show()"
   ]
  },
  {
   "cell_type": "code",
   "execution_count": null,
   "metadata": {},
   "outputs": [],
   "source": [
    "# Obtener duraciones promedio\n",
    "durations = position_durations(annotations)\n",
    "\n",
    "# Mostrar gráfica\n",
    "plot_position_durations(durations)\n"
   ]
  }
 ],
 "metadata": {
  "kernelspec": {
   "display_name": "Python 3",
   "language": "python",
   "name": "python3"
  },
  "language_info": {
   "codemirror_mode": {
    "name": "ipython",
    "version": 3
   },
   "file_extension": ".py",
   "mimetype": "text/x-python",
   "name": "python",
   "nbconvert_exporter": "python",
   "pygments_lexer": "ipython3",
   "version": "3.10.0"
  }
 },
 "nbformat": 4,
 "nbformat_minor": 2
}
